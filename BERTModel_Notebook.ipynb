{
  "cells": [
    {
      "cell_type": "markdown",
      "metadata": {
        "id": "view-in-github",
        "colab_type": "text"
      },
      "source": [
        "<a href=\"https://colab.research.google.com/github/Shrsht/Datathon2024/blob/main/Model_GPU_Training.ipynb\" target=\"_parent\"><img src=\"https://colab.research.google.com/assets/colab-badge.svg\" alt=\"Open In Colab\"/></a>"
      ]
    },
    {
      "cell_type": "code",
      "execution_count": null,
      "metadata": {
        "id": "zwFnJsE6vjf8",
        "colab": {
          "base_uri": "https://localhost:8080/"
        },
        "outputId": "a4bfb752-3aba-4849-c451-85980c667cb1"
      },
      "outputs": [
        {
          "output_type": "stream",
          "name": "stderr",
          "text": [
            "/usr/local/lib/python3.10/dist-packages/transformers/utils/generic.py:441: UserWarning: torch.utils._pytree._register_pytree_node is deprecated. Please use torch.utils._pytree.register_pytree_node instead.\n",
            "  _torch_pytree._register_pytree_node(\n"
          ]
        }
      ],
      "source": [
        "import pandas as pd\n",
        "import torch\n",
        "#import cupy\n",
        "import spacy\n",
        "import torchvision\n",
        "import torchaudio\n",
        "import transformers"
      ]
    },
    {
      "cell_type": "markdown",
      "source": [
        "# Step 1. Connect to GPU\n",
        "\n",
        "We connect Google Collab's available T4 GPU architecture in order to load our CUDY package dependanies:"
      ],
      "metadata": {
        "id": "5U5PPM-pfbir"
      }
    },
    {
      "cell_type": "markdown",
      "source": [
        "### 1.1 Download our Transformer Pipeline from Spacy:\n",
        "\n",
        "We will be using the **en_core_web_trf** desgined by HuggingFace as our Transformer Architecture.\n",
        "\n",
        "The documentation for **en_core_web_trf** can be found here: https://huggingface.co/spacy/en_core_web_trf"
      ],
      "metadata": {
        "id": "rPDIHQXdfdDv"
      }
    },
    {
      "cell_type": "code",
      "source": [
        "#!pip install spacy-transformers\n",
        "import spacy_transformers"
      ],
      "metadata": {
        "colab": {
          "base_uri": "https://localhost:8080/"
        },
        "id": "N_g4zdQhGuUv",
        "outputId": "8e8b0538-4c35-4730-99ee-8104cbbe1239"
      },
      "execution_count": null,
      "outputs": [
        {
          "output_type": "stream",
          "name": "stderr",
          "text": [
            "/usr/local/lib/python3.10/dist-packages/transformers/utils/generic.py:309: UserWarning: torch.utils._pytree._register_pytree_node is deprecated. Please use torch.utils._pytree.register_pytree_node instead.\n",
            "  _torch_pytree._register_pytree_node(\n"
          ]
        }
      ]
    },
    {
      "cell_type": "code",
      "source": [
        "#!python -m spacy download en_core_web_trf\n",
        "spacy.load('en_core_web_trf')"
      ],
      "metadata": {
        "colab": {
          "base_uri": "https://localhost:8080/"
        },
        "id": "BeaCyAeRfTlZ",
        "outputId": "03560957-66e8-4b29-8dfa-27d1018deaf9"
      },
      "execution_count": null,
      "outputs": [
        {
          "output_type": "execute_result",
          "data": {
            "text/plain": [
              "<spacy.lang.en.English at 0x7893b11c5e10>"
            ]
          },
          "metadata": {},
          "execution_count": 3
        }
      ]
    },
    {
      "cell_type": "code",
      "source": [],
      "metadata": {
        "id": "dMUwA04nvKkN"
      },
      "execution_count": null,
      "outputs": []
    },
    {
      "cell_type": "markdown",
      "source": [
        "# Step 2. Install our Parallel Computing Architecture - CUDA\n",
        "\n",
        "CUDA (Compute Unified Device Architecture) is a parallel computing platform and programming model developed by NVIDIA for general-purpose computing on GPUs. It allows developers to harness the computational power of NVIDIA GPUs to accelerate various types of computations, including scientific simulations, deep learning, image and signal processing, and more."
      ],
      "metadata": {
        "id": "HVWwk_cCfmu3"
      }
    },
    {
      "cell_type": "code",
      "source": [
        "#!pip install -U spacy[cuda12.2,transformers]\n"
      ],
      "metadata": {
        "id": "crqdYEqLfTrO"
      },
      "execution_count": null,
      "outputs": []
    },
    {
      "cell_type": "markdown",
      "source": [
        "# Step 3. Import our Computation Architecture - CuPy:\n",
        "\n",
        "CuPy is an open-source numerical computing library that is built to closely mimic the interface of NumPy, while also taking advantage of GPU acceleration through CUDA. It provides a NumPy-compatible multidimensional array objects (ndarray) that can perform computations on GPU devices."
      ],
      "metadata": {
        "id": "4_FChkByfs9H"
      }
    },
    {
      "cell_type": "code",
      "source": [
        "import cupy\n",
        "import transformers"
      ],
      "metadata": {
        "id": "RQqZx8ttfyV0"
      },
      "execution_count": null,
      "outputs": []
    },
    {
      "cell_type": "markdown",
      "source": [
        "# Step 4. Training our Transformer Model:\n",
        "\n",
        "- Use our pre-annotated Job Descriptions (stored in .tsv files) as training and testing data\n",
        "- We convert these .tsv files into .spacy files to feed into our pipelines\n",
        "- Using the SpaCy website, we generate the .cnf files to configure the learning parameters for our pipeline\n"
      ],
      "metadata": {
        "id": "iChsd1KhhSR8"
      }
    },
    {
      "cell_type": "markdown",
      "source": [
        "### 4.1 Convert .tsv files into .spacy files to feed into Spacy Model:\n",
        "We begin by first convereting .tsv into JSON files\n",
        "The JSON files are then convereted into .spacy files"
      ],
      "metadata": {
        "id": "yy1HqSBbhSaC"
      }
    },
    {
      "cell_type": "code",
      "source": [
        "!python -m spacy convert /content/train.tsv ./ -t json -n 1 -c iob\n",
        "!python -m spacy convert /content/test.tsv ./ -t json -n 1 -c iob\n",
        "!python -m spacy convert /content/train.json ./ -t spacy\n",
        "!python -m spacy convert /content/test.json ./ -t spacy"
      ],
      "metadata": {
        "id": "at6Dcc1IhQF0",
        "outputId": "f92b7a9e-38c6-498f-e529-3ed29f44b665",
        "colab": {
          "base_uri": "https://localhost:8080/"
        }
      },
      "execution_count": null,
      "outputs": [
        {
          "output_type": "stream",
          "name": "stdout",
          "text": [
            "/usr/local/lib/python3.10/dist-packages/transformers/utils/generic.py:441: UserWarning: torch.utils._pytree._register_pytree_node is deprecated. Please use torch.utils._pytree.register_pytree_node instead.\n",
            "  _torch_pytree._register_pytree_node(\n",
            "\u001b[38;5;4mℹ Auto-detected token-per-line NER format\u001b[0m\n",
            "\u001b[38;5;3m⚠ Document delimiters found, automatic document segmentation with `-n`\n",
            "disabled.\u001b[0m\n",
            "/usr/local/lib/python3.10/dist-packages/transformers/utils/generic.py:309: UserWarning: torch.utils._pytree._register_pytree_node is deprecated. Please use torch.utils._pytree.register_pytree_node instead.\n",
            "  _torch_pytree._register_pytree_node(\n",
            "\u001b[38;5;2m✔ Generated output file (1 documents): train.json\u001b[0m\n",
            "/usr/local/lib/python3.10/dist-packages/transformers/utils/generic.py:441: UserWarning: torch.utils._pytree._register_pytree_node is deprecated. Please use torch.utils._pytree.register_pytree_node instead.\n",
            "  _torch_pytree._register_pytree_node(\n",
            "\u001b[38;5;4mℹ Auto-detected token-per-line NER format\u001b[0m\n",
            "\u001b[38;5;3m⚠ Document delimiters found, automatic document segmentation with `-n`\n",
            "disabled.\u001b[0m\n",
            "/usr/local/lib/python3.10/dist-packages/transformers/utils/generic.py:309: UserWarning: torch.utils._pytree._register_pytree_node is deprecated. Please use torch.utils._pytree.register_pytree_node instead.\n",
            "  _torch_pytree._register_pytree_node(\n",
            "\u001b[38;5;2m✔ Generated output file (1 documents): test.json\u001b[0m\n",
            "/usr/local/lib/python3.10/dist-packages/transformers/utils/generic.py:441: UserWarning: torch.utils._pytree._register_pytree_node is deprecated. Please use torch.utils._pytree.register_pytree_node instead.\n",
            "  _torch_pytree._register_pytree_node(\n",
            "/usr/local/lib/python3.10/dist-packages/transformers/utils/generic.py:309: UserWarning: torch.utils._pytree._register_pytree_node is deprecated. Please use torch.utils._pytree.register_pytree_node instead.\n",
            "  _torch_pytree._register_pytree_node(\n",
            "\u001b[38;5;2m✔ Generated output file (70 documents): train.spacy\u001b[0m\n",
            "/usr/local/lib/python3.10/dist-packages/transformers/utils/generic.py:441: UserWarning: torch.utils._pytree._register_pytree_node is deprecated. Please use torch.utils._pytree.register_pytree_node instead.\n",
            "  _torch_pytree._register_pytree_node(\n",
            "/usr/local/lib/python3.10/dist-packages/transformers/utils/generic.py:309: UserWarning: torch.utils._pytree._register_pytree_node is deprecated. Please use torch.utils._pytree.register_pytree_node instead.\n",
            "  _torch_pytree._register_pytree_node(\n",
            "\u001b[38;5;2m✔ Generated output file (31 documents): test.spacy\u001b[0m\n"
          ]
        }
      ]
    },
    {
      "cell_type": "markdown",
      "source": [
        "### 4.2 Feed our Pipeline Configurations into the Pipeline:\n",
        "\n",
        "We go to the Spacy Training site: https://spacy.io/usage/training to generate and set our Pipeline Parameters.\n",
        "\n",
        "This then generates a .config file that we can upload into our Spacy Pipeline to train our datset.\n",
        " We will name our .config file - **base_conf.config**"
      ],
      "metadata": {
        "id": "OmxQasd5iQh0"
      }
    },
    {
      "cell_type": "code",
      "source": [
        "!python -m spacy init fill-config /content/base_config.cfg  /content/config_spacy.cfg"
      ],
      "metadata": {
        "id": "8EB99t-AiR3A",
        "outputId": "7b98fb2c-c872-4391-f1ff-99aa7ef03e72",
        "colab": {
          "base_uri": "https://localhost:8080/"
        }
      },
      "execution_count": null,
      "outputs": [
        {
          "output_type": "stream",
          "name": "stdout",
          "text": [
            "/usr/local/lib/python3.10/dist-packages/transformers/utils/generic.py:441: UserWarning: torch.utils._pytree._register_pytree_node is deprecated. Please use torch.utils._pytree.register_pytree_node instead.\n",
            "  _torch_pytree._register_pytree_node(\n",
            "/usr/local/lib/python3.10/dist-packages/transformers/utils/generic.py:309: UserWarning: torch.utils._pytree._register_pytree_node is deprecated. Please use torch.utils._pytree.register_pytree_node instead.\n",
            "  _torch_pytree._register_pytree_node(\n",
            "\u001b[38;5;2m✔ Auto-filled config with all values\u001b[0m\n",
            "\u001b[38;5;2m✔ Saved config\u001b[0m\n",
            "/content/config_spacy.cfg\n",
            "You can now add your data and train your pipeline:\n",
            "python -m spacy train config_spacy.cfg --paths.train ./train.spacy --paths.dev ./dev.spacy\n"
          ]
        }
      ]
    },
    {
      "cell_type": "markdown",
      "source": [
        "### 4.3 Training our Pipeline on our train and test data:\n",
        "\n",
        "We use the spacy - train command to train our data - This process uses the configurations we defined in our base_config.cfg file."
      ],
      "metadata": {
        "id": "izhuXGB7iouX"
      }
    },
    {
      "cell_type": "code",
      "source": [
        "!python -m spacy train -g 0 /content/config_spacy.cfg --output ./"
      ],
      "metadata": {
        "id": "J8yMx6QxiibM",
        "outputId": "6b284108-9d04-4258-9d03-edb03a2f2d15",
        "colab": {
          "base_uri": "https://localhost:8080/"
        }
      },
      "execution_count": null,
      "outputs": [
        {
          "output_type": "stream",
          "name": "stdout",
          "text": [
            "/usr/local/lib/python3.10/dist-packages/transformers/utils/generic.py:441: UserWarning: torch.utils._pytree._register_pytree_node is deprecated. Please use torch.utils._pytree.register_pytree_node instead.\n",
            "  _torch_pytree._register_pytree_node(\n",
            "\u001b[38;5;4mℹ Saving to output directory: .\u001b[0m\n",
            "\u001b[38;5;4mℹ Using GPU: 0\u001b[0m\n",
            "\u001b[1m\n",
            "=========================== Initializing pipeline ===========================\u001b[0m\n",
            "/usr/local/lib/python3.10/dist-packages/transformers/utils/generic.py:309: UserWarning: torch.utils._pytree._register_pytree_node is deprecated. Please use torch.utils._pytree.register_pytree_node instead.\n",
            "  _torch_pytree._register_pytree_node(\n",
            "tokenizer_config.json: 100% 25.0/25.0 [00:00<00:00, 159kB/s]\n",
            "config.json: 100% 481/481 [00:00<00:00, 3.15MB/s]\n",
            "vocab.json: 100% 899k/899k [00:00<00:00, 4.50MB/s]\n",
            "merges.txt: 100% 456k/456k [00:00<00:00, 3.50MB/s]\n",
            "tokenizer.json: 100% 1.36M/1.36M [00:00<00:00, 5.07MB/s]\n",
            "model.safetensors: 100% 499M/499M [00:03<00:00, 149MB/s]\n",
            "Some weights of RobertaModel were not initialized from the model checkpoint at roberta-base and are newly initialized: ['roberta.pooler.dense.weight', 'roberta.pooler.dense.bias']\n",
            "You should probably TRAIN this model on a down-stream task to be able to use it for predictions and inference.\n",
            "\u001b[38;5;2m✔ Initialized pipeline\u001b[0m\n",
            "\u001b[1m\n",
            "============================= Training pipeline =============================\u001b[0m\n",
            "\u001b[38;5;4mℹ Pipeline: ['transformer', 'ner']\u001b[0m\n",
            "\u001b[38;5;4mℹ Initial learn rate: 0.0\u001b[0m\n",
            "E    #       LOSS TRANS...  LOSS NER  ENTS_F  ENTS_P  ENTS_R  SCORE \n",
            "---  ------  -------------  --------  ------  ------  ------  ------\n",
            "  0       0        2397.53    170.79    0.02    0.02    0.03    0.00\n",
            "  4     200      643337.99  64647.44   33.62   41.65   28.18    0.34\n",
            "  8     400       16624.59  16488.18   50.93   53.10   48.93    0.51\n",
            " 12     600       11517.44  12158.40   56.15   55.50   56.82    0.56\n",
            " 16     800       15680.04  10245.38   63.55   61.70   65.51    0.64\n",
            " 20    1000        8747.87   8236.12   64.80   64.32   65.28    0.65\n",
            " 24    1200       13209.83   7083.13   66.91   64.85   69.11    0.67\n",
            " 28    1400       11293.75   6302.59   68.53   66.44   70.76    0.69\n",
            " 32    1600        6300.07   5706.52   66.19   71.25   61.81    0.66\n",
            " 36    1800        7080.75   5646.98   70.97   68.26   73.90    0.71\n",
            " 40    2000        4428.82   5187.97   70.86   67.98   74.00    0.71\n",
            " 44    2200        4185.36   4990.50   71.81   72.09   71.52    0.72\n",
            " 49    2400        4788.26   4824.55   71.14   72.71   69.64    0.71\n",
            " 53    2600        3900.21   4656.02   71.46   68.63   74.53    0.71\n",
            " 57    2800        3801.41   4533.06   72.25   71.79   72.71    0.72\n",
            " 61    3000        3649.40   4415.10   71.01   72.71   69.38    0.71\n",
            " 65    3200        3592.11   4305.11   72.17   73.31   71.06    0.72\n",
            " 69    3400        3579.08   4293.15   71.49   66.84   76.84    0.71\n",
            " 73    3600        3662.52   4302.10   72.94   71.95   73.97    0.73\n",
            " 77    3800        3455.11   4012.90   72.58   73.47   71.72    0.73\n",
            " 81    4000        3449.89   4148.72   74.02   72.39   75.72    0.74\n",
            " 85    4200        3796.02   4191.14   73.57   73.63   73.51    0.74\n",
            " 89    4400        3572.34   4085.38   72.65   71.41   73.93    0.73\n",
            " 93    4600        3547.77   4124.26   72.39   71.69   73.11    0.72\n",
            " 98    4800        3552.38   4061.28   72.98   71.98   74.00    0.73\n",
            "102    5000        3332.71   3858.38   73.31   72.72   73.90    0.73\n",
            "106    5200        3622.32   3992.00   72.84   73.30   72.38    0.73\n",
            "110    5400        3522.42   3941.42   73.78   74.75   72.84    0.74\n",
            "114    5600        3538.56   3952.40   72.99   71.83   74.20    0.73\n",
            "\u001b[38;5;2m✔ Saved pipeline to output directory\u001b[0m\n",
            "model-last\n"
          ]
        }
      ]
    },
    {
      "cell_type": "code",
      "source": [
        "nlp = spacy.load(\"/content/drive/MyDrive/model_best\")"
      ],
      "metadata": {
        "id": "siX70T2Oiidh",
        "outputId": "94527ea0-5888-431f-f928-f01a162dda25",
        "colab": {
          "base_uri": "https://localhost:8080/"
        }
      },
      "execution_count": null,
      "outputs": [
        {
          "output_type": "stream",
          "name": "stderr",
          "text": [
            "/usr/local/lib/python3.10/dist-packages/spacy/util.py:1740: UserWarning: [W111] Jupyter notebook detected: if using `prefer_gpu()` or `require_gpu()`, include it in the same cell right before `spacy.load()` to ensure that the model is loaded on the correct device. More information: http://spacy.io/usage/v3#jupyter-notebook-gpu\n",
            "  warnings.warn(Warnings.W111)\n"
          ]
        }
      ]
    },
    {
      "cell_type": "code",
      "source": [
        "bytes_data = nlp.to_bytes()\n",
        "\n",
        "with open(\"/content/drive/MyDrive/best_model.bin\", \"wb\") as f:\n",
        "    f.write(bytes_data)"
      ],
      "metadata": {
        "id": "sJa5V88THrX5"
      },
      "execution_count": null,
      "outputs": []
    },
    {
      "cell_type": "code",
      "source": [
        "text = [\n",
        "'''\n",
        "    SHRESHT VENKATRAMAN\n",
        "\n",
        "Indianapolis, IN | shresht.v24@gmail.com | 858-349-3816\n",
        "\n",
        "LinkedIn: www.linkedin.com/in/shresht-venkatraman/ | Project Portfolio: https://shrsht.github.io/Shresht_Portfolio/\n",
        "\n",
        "EDUCATION ________________________________________________________________\n",
        "         Indiana University, Luddy School of Informatics, Computing, and Engineering| Indianapolis, IN\n",
        "         Master of Science in Applied Data Science\n",
        "         University of California San Diego |La Jolla, CA\n",
        "         Bachelor of Arts in Economics| Minor: Data Science\n",
        "\n",
        "                                                                          Dec 2023\n",
        "\n",
        "                   Jan 2025\n",
        "\n",
        "WORK EXPERIENCE __________________________________________________________\n",
        "   July – Dec 2023\n",
        "\n",
        "ALGORITHMS ENGINEERING INTERN -  Corsaire Co. | San Diego, CA\n",
        "-  Developed back-end data dependencies and backbone database infrastructure for a new ‘Key Opinion\n",
        "Leaders’(KOL) identification product. Resulted in a database of 8 million ‘opinion leaders’ in the drug\n",
        "development industry.\n",
        "\n",
        "-  Built automated data-mining systems using Python, Solr, R and SQL to collect data from 7000+ medical\n",
        "\n",
        "journals, conferences, and publications saving manual searching time by 45%\n",
        "\n",
        "-  Led the development of automated ETL processes that ingest data from disparate sources to create\n",
        "\n",
        "individualized KOL profiles\n",
        "\n",
        "FINANCE & DATA SCIENCE INTERN - Advent International | Boston, MA\n",
        "    June - Aug 2022\n",
        "-  Designed and built Tableau dashboards for 8 firm departments using 5-years of financial data. Improved the\n",
        "\n",
        "firm’s ability to compare expenses across departments and recognize key performance indicators.\n",
        "\n",
        "-  Facilitated the production of weekly financial reports to management including CFO, CEO, and Managing\n",
        "\n",
        "Partners by producing statistical and visual analytics using Python and Tableau.\n",
        "\n",
        "-  Programmed  a  custom  Python  algorithm  to  automate  data-cleaning  and  restructuring  processes  for  the\n",
        "\n",
        "FP&A department. Increased efficiency by saving 10+ hours of manual data-cleaning\n",
        "\n",
        "-  Built a ‘Deal-Stage Meter’ for the firm’s 3 global tax teams to accurately track the status of individual deals\n",
        "and manage timelines for tax compliance. Greatly improved the coordination and  management between\n",
        "firm’s Boston, London and Luxembourg tax teams\n",
        "\n",
        "DATA SCIENCE PROJECTS __________________________________________\n",
        "\n",
        "Stock Prediction System | Project Committee: UCSD Data Science Student Society                          Jan – July 2023\n",
        "-  Collaborated with a 5-member team to develop machine learning models to predict opening prices of a\n",
        "\n",
        "stock using Random Forests, LSTMs, Koopman Neural Networks implemented using TensorFlow and Scikit-\n",
        "learn.\n",
        "\n",
        "-  Calculated and graphed the Efficient Frontier for a given portfolio by minimizing the Portfolio Volatility and\n",
        "\n",
        "maximizing the Sharpe Ratio using Python.\n",
        "\n",
        "-  Developed a predictive model for stock prices utilizing the Twitter API to scrape tweets and perform NLP\n",
        "\n",
        "Sentiment Analysis on Twitter activity.\n",
        "Predicting Political Party from Stock Portfolios\n",
        "-  Used the 'House Stock Watcher\" data set of stock-market trading activity of members of the House of\n",
        "\n",
        "    November 2022\n",
        "\n",
        "Representatives between 2020 to 2022.\n",
        "\n",
        "-  Predicted political affiliation from a stock portfolio by creating Scikit-learn Pipeline incorporating\n",
        "RandomForest Classifiers, One-Hot Encoding and Grid-Search for hyperparameter optimization.\n",
        "\n",
        "-  Tested for insider trading by using permutation testing to assess missingness of values and detect party-\n",
        "\n",
        "wide preference for a stock.\n",
        "\n",
        "Statistical Language Model of the Shakespeare Corpus\n",
        "-  Developed Uniform, Unigram and N-Gram probabilistic models to predict the probability of a given text\n",
        "\n",
        "    November 2022\n",
        "\n",
        "being written by William Shakespeare\n",
        "\n",
        "TECHNICAL SKILLS _____________________________________________________\n",
        "\n",
        "LANGUAGE: Japanese (JLPT N3), French (DELF B1), Korean, Hindi (Native), Tamil\n",
        "DATA ANALYSIS & PROGRAMMING: Python, Java, SQL, Excel, Stata, R, Tableau\n",
        "PUBLIC CLOUD: AWS Machine Learning Specialty Certification\n",
        "FINANCE: Financial accounting, Statistics, Econometrics and Probability\n",
        "'''\n",
        "]\n",
        "\n",
        "for doc in nlp.pipe(text, disable=[\"tagger\", \"parser\"]):\n",
        "    print([(ent.text, ent.label_) for ent in doc.ents])"
      ],
      "metadata": {
        "id": "K1dlKzcP3hhC",
        "outputId": "8b23a93f-31ac-4551-ffca-9c12d8d7bef5",
        "colab": {
          "base_uri": "https://localhost:8080/"
        }
      },
      "execution_count": null,
      "outputs": [
        {
          "output_type": "stream",
          "name": "stdout",
          "text": [
            "[('Master of Science', 'EDUCATION'), ('Bachelor of Arts', 'EDUCATION'), ('Python', 'TOOL'), ('Solr', 'TOOL'), ('SQL', 'TOOL'), ('Random Forests', 'TOOL'), ('Koopman Neural Networks', 'TOOL'), ('TensorFlow', 'TOOL'), ('Scikit-\\n', 'TOOL'), ('learn', 'TOOL'), ('Scikit-learn', 'TOOL'), ('RandomForest Classifiers', 'TOOL'), ('One-Hot Encoding', 'TOOL'), ('Grid-Search', 'TOOL'), ('hyperparameter optimization', 'TECHNICAL_SKILL'), ('permutation testing', 'TECHNICAL_SKILL'), ('Statistical Language', 'TECHNICAL_SKILL'), ('N-Gram', 'TOOL'), ('Japanese', 'TOOL'), ('JLPT N3', 'TOOL'), ('French', 'TOOL'), ('DELF B1', 'TOOL'), ('Korean', 'TOOL'), ('Hindi', 'TOOL'), ('Tamil', 'TOOL'), ('Python', 'TOOL'), ('Java', 'TOOL'), ('SQL', 'TOOL'), ('Excel', 'TOOL'), ('Stata', 'TOOL'), ('R', 'TOOL'), ('Tableau', 'TOOL'), ('Financial accounting', 'TECHNICAL_SKILL'), ('Statistics', 'TECHNICAL_SKILL'), ('Econometrics', 'TECHNICAL_SKILL')]\n"
          ]
        }
      ]
    },
    {
      "cell_type": "code",
      "source": [
        "from google.colab import drive\n",
        "drive.mount('/content/drive')"
      ],
      "metadata": {
        "id": "rbhJGD9q464Z",
        "outputId": "d9ec5b97-7195-4269-d24a-f688d017b7c3",
        "colab": {
          "base_uri": "https://localhost:8080/"
        }
      },
      "execution_count": null,
      "outputs": [
        {
          "output_type": "stream",
          "name": "stdout",
          "text": [
            "Mounted at /content/drive\n"
          ]
        }
      ]
    },
    {
      "cell_type": "code",
      "source": [
        "#from google.colab import files\n",
        "files.download('/content/model_best')"
      ],
      "metadata": {
        "id": "vATCdzXz4-L-"
      },
      "execution_count": null,
      "outputs": []
    },
    {
      "cell_type": "code",
      "source": [
        "! pip install huggingface_hub"
      ],
      "metadata": {
        "id": "ZkrCPs1i6wkW",
        "outputId": "43b0bf9d-0f3f-469a-8013-288778d010fd",
        "colab": {
          "base_uri": "https://localhost:8080/"
        }
      },
      "execution_count": null,
      "outputs": [
        {
          "output_type": "stream",
          "name": "stdout",
          "text": [
            "Requirement already satisfied: huggingface_hub in /usr/local/lib/python3.10/dist-packages (0.20.3)\n",
            "Requirement already satisfied: filelock in /usr/local/lib/python3.10/dist-packages (from huggingface_hub) (3.13.1)\n",
            "Requirement already satisfied: fsspec>=2023.5.0 in /usr/local/lib/python3.10/dist-packages (from huggingface_hub) (2023.6.0)\n",
            "Requirement already satisfied: requests in /usr/local/lib/python3.10/dist-packages (from huggingface_hub) (2.31.0)\n",
            "Requirement already satisfied: tqdm>=4.42.1 in /usr/local/lib/python3.10/dist-packages (from huggingface_hub) (4.66.2)\n",
            "Requirement already satisfied: pyyaml>=5.1 in /usr/local/lib/python3.10/dist-packages (from huggingface_hub) (6.0.1)\n",
            "Requirement already satisfied: typing-extensions>=3.7.4.3 in /usr/local/lib/python3.10/dist-packages (from huggingface_hub) (4.10.0)\n",
            "Requirement already satisfied: packaging>=20.9 in /usr/local/lib/python3.10/dist-packages (from huggingface_hub) (24.0)\n",
            "Requirement already satisfied: charset-normalizer<4,>=2 in /usr/local/lib/python3.10/dist-packages (from requests->huggingface_hub) (3.3.2)\n",
            "Requirement already satisfied: idna<4,>=2.5 in /usr/local/lib/python3.10/dist-packages (from requests->huggingface_hub) (3.6)\n",
            "Requirement already satisfied: urllib3<3,>=1.21.1 in /usr/local/lib/python3.10/dist-packages (from requests->huggingface_hub) (2.0.7)\n",
            "Requirement already satisfied: certifi>=2017.4.17 in /usr/local/lib/python3.10/dist-packages (from requests->huggingface_hub) (2024.2.2)\n"
          ]
        }
      ]
    },
    {
      "cell_type": "code",
      "source": [
        "from huggingface_hub import notebook_login\n",
        "\n",
        "notebook_login()"
      ],
      "metadata": {
        "id": "AM-tfVZQ7PRZ",
        "outputId": "930ab837-8b7a-4c8f-e13a-a3f3c50081a7",
        "colab": {
          "base_uri": "https://localhost:8080/",
          "height": 145,
          "referenced_widgets": [
            "c3bf1467dcb544378917b28f5016b7b7",
            "adff35e066534ce5ad562f3f0a3a02d9",
            "9c07e746d7db4015a190cdcc6bbeff46",
            "326ac7b5fdf7485f9200454eee41e9e2",
            "271ab44a9ba2415f979729bf9b61838c",
            "2e5378e207b84c359ec304ea3b35a4d1",
            "3f7ca49465974f4986b5953b95247a92",
            "f49a130d35934c62970970ade7b53d3a",
            "18c6ff7af9084382b0faed5d924ff103",
            "76571ef8218f448b966d8749483cc634",
            "7e33978fdf0d45489774eacf95e6d6af",
            "a6b91120e9df43059f1103629d05fd6b",
            "0af4b1c892804151af986bbef4b27f8b",
            "d4d1cf6b8ae44c828458f006eb2b8c2b",
            "f0964c8e5a51497fad129e0b94381005",
            "21eefbe5728745bea9bc0d2b54078c1c",
            "b1f5c037bca84e369635655c0fcdd1cb",
            "9827e057a7f14ddfa719e46441907a4c",
            "62c0f2106e394855a13d4468eb71deb8",
            "b840123a8c7843a5a94493304a039aaf",
            "996c0acfbd124e80bbca07405369f698",
            "4286b34173be4fe5838ef5991c197688",
            "81c6a386086e4176ae7d71c32e924574",
            "35d1a7a44ed94ca3a1bc0ee52ef4a254",
            "d8520c37aa5d4384a42b3c0c9687f8ce",
            "1a9c477eee55415f9fdb7d4ef008892c",
            "c672ed748efd4a158a159e733ce84f38",
            "9c06c781e9bf40f3aa630c81d0794a5f",
            "9a1881fb514e46d1adc2d9cc7457fe62",
            "6930b47b08984621820c24632b33a2d6",
            "44031d861af84edb90b076b8cd1ae535",
            "1be2dfb77d5641fcb32f08f608d8bf55"
          ]
        }
      },
      "execution_count": null,
      "outputs": [
        {
          "output_type": "display_data",
          "data": {
            "text/plain": [
              "VBox(children=(HTML(value='<center> <img\\nsrc=https://huggingface.co/front/assets/huggingface_logo-noborder.sv…"
            ],
            "application/vnd.jupyter.widget-view+json": {
              "version_major": 2,
              "version_minor": 0,
              "model_id": "c3bf1467dcb544378917b28f5016b7b7"
            }
          },
          "metadata": {}
        }
      ]
    }
  ],
  "metadata": {
    "colab": {
      "provenance": [],
      "gpuType": "T4",
      "include_colab_link": true
    },
    "kernelspec": {
      "display_name": "Python 3",
      "name": "python3"
    },
    "widgets": {
      "application/vnd.jupyter.widget-state+json": {
        "c3bf1467dcb544378917b28f5016b7b7": {
          "model_module": "@jupyter-widgets/controls",
          "model_name": "VBoxModel",
          "model_module_version": "1.5.0",
          "state": {
            "_dom_classes": [],
            "_model_module": "@jupyter-widgets/controls",
            "_model_module_version": "1.5.0",
            "_model_name": "VBoxModel",
            "_view_count": null,
            "_view_module": "@jupyter-widgets/controls",
            "_view_module_version": "1.5.0",
            "_view_name": "VBoxView",
            "box_style": "",
            "children": [
              "IPY_MODEL_996c0acfbd124e80bbca07405369f698",
              "IPY_MODEL_4286b34173be4fe5838ef5991c197688",
              "IPY_MODEL_81c6a386086e4176ae7d71c32e924574",
              "IPY_MODEL_35d1a7a44ed94ca3a1bc0ee52ef4a254"
            ],
            "layout": "IPY_MODEL_3f7ca49465974f4986b5953b95247a92"
          }
        },
        "adff35e066534ce5ad562f3f0a3a02d9": {
          "model_module": "@jupyter-widgets/controls",
          "model_name": "HTMLModel",
          "model_module_version": "1.5.0",
          "state": {
            "_dom_classes": [],
            "_model_module": "@jupyter-widgets/controls",
            "_model_module_version": "1.5.0",
            "_model_name": "HTMLModel",
            "_view_count": null,
            "_view_module": "@jupyter-widgets/controls",
            "_view_module_version": "1.5.0",
            "_view_name": "HTMLView",
            "description": "",
            "description_tooltip": null,
            "layout": "IPY_MODEL_f49a130d35934c62970970ade7b53d3a",
            "placeholder": "​",
            "style": "IPY_MODEL_18c6ff7af9084382b0faed5d924ff103",
            "value": "<center> <img\nsrc=https://huggingface.co/front/assets/huggingface_logo-noborder.svg\nalt='Hugging Face'> <br> Copy a token from <a\nhref=\"https://huggingface.co/settings/tokens\" target=\"_blank\">your Hugging Face\ntokens page</a> and paste it below. <br> Immediately click login after copying\nyour token or it might be stored in plain text in this notebook file. </center>"
          }
        },
        "9c07e746d7db4015a190cdcc6bbeff46": {
          "model_module": "@jupyter-widgets/controls",
          "model_name": "PasswordModel",
          "model_module_version": "1.5.0",
          "state": {
            "_dom_classes": [],
            "_model_module": "@jupyter-widgets/controls",
            "_model_module_version": "1.5.0",
            "_model_name": "PasswordModel",
            "_view_count": null,
            "_view_module": "@jupyter-widgets/controls",
            "_view_module_version": "1.5.0",
            "_view_name": "PasswordView",
            "continuous_update": true,
            "description": "Token:",
            "description_tooltip": null,
            "disabled": false,
            "layout": "IPY_MODEL_76571ef8218f448b966d8749483cc634",
            "placeholder": "​",
            "style": "IPY_MODEL_7e33978fdf0d45489774eacf95e6d6af",
            "value": ""
          }
        },
        "326ac7b5fdf7485f9200454eee41e9e2": {
          "model_module": "@jupyter-widgets/controls",
          "model_name": "CheckboxModel",
          "model_module_version": "1.5.0",
          "state": {
            "_dom_classes": [],
            "_model_module": "@jupyter-widgets/controls",
            "_model_module_version": "1.5.0",
            "_model_name": "CheckboxModel",
            "_view_count": null,
            "_view_module": "@jupyter-widgets/controls",
            "_view_module_version": "1.5.0",
            "_view_name": "CheckboxView",
            "description": "Add token as git credential?",
            "description_tooltip": null,
            "disabled": false,
            "indent": true,
            "layout": "IPY_MODEL_a6b91120e9df43059f1103629d05fd6b",
            "style": "IPY_MODEL_0af4b1c892804151af986bbef4b27f8b",
            "value": true
          }
        },
        "271ab44a9ba2415f979729bf9b61838c": {
          "model_module": "@jupyter-widgets/controls",
          "model_name": "ButtonModel",
          "model_module_version": "1.5.0",
          "state": {
            "_dom_classes": [],
            "_model_module": "@jupyter-widgets/controls",
            "_model_module_version": "1.5.0",
            "_model_name": "ButtonModel",
            "_view_count": null,
            "_view_module": "@jupyter-widgets/controls",
            "_view_module_version": "1.5.0",
            "_view_name": "ButtonView",
            "button_style": "",
            "description": "Login",
            "disabled": false,
            "icon": "",
            "layout": "IPY_MODEL_d4d1cf6b8ae44c828458f006eb2b8c2b",
            "style": "IPY_MODEL_f0964c8e5a51497fad129e0b94381005",
            "tooltip": ""
          }
        },
        "2e5378e207b84c359ec304ea3b35a4d1": {
          "model_module": "@jupyter-widgets/controls",
          "model_name": "HTMLModel",
          "model_module_version": "1.5.0",
          "state": {
            "_dom_classes": [],
            "_model_module": "@jupyter-widgets/controls",
            "_model_module_version": "1.5.0",
            "_model_name": "HTMLModel",
            "_view_count": null,
            "_view_module": "@jupyter-widgets/controls",
            "_view_module_version": "1.5.0",
            "_view_name": "HTMLView",
            "description": "",
            "description_tooltip": null,
            "layout": "IPY_MODEL_21eefbe5728745bea9bc0d2b54078c1c",
            "placeholder": "​",
            "style": "IPY_MODEL_b1f5c037bca84e369635655c0fcdd1cb",
            "value": "\n<b>Pro Tip:</b> If you don't already have one, you can create a dedicated\n'notebooks' token with 'write' access, that you can then easily reuse for all\nnotebooks. </center>"
          }
        },
        "3f7ca49465974f4986b5953b95247a92": {
          "model_module": "@jupyter-widgets/base",
          "model_name": "LayoutModel",
          "model_module_version": "1.2.0",
          "state": {
            "_model_module": "@jupyter-widgets/base",
            "_model_module_version": "1.2.0",
            "_model_name": "LayoutModel",
            "_view_count": null,
            "_view_module": "@jupyter-widgets/base",
            "_view_module_version": "1.2.0",
            "_view_name": "LayoutView",
            "align_content": null,
            "align_items": "center",
            "align_self": null,
            "border": null,
            "bottom": null,
            "display": "flex",
            "flex": null,
            "flex_flow": "column",
            "grid_area": null,
            "grid_auto_columns": null,
            "grid_auto_flow": null,
            "grid_auto_rows": null,
            "grid_column": null,
            "grid_gap": null,
            "grid_row": null,
            "grid_template_areas": null,
            "grid_template_columns": null,
            "grid_template_rows": null,
            "height": null,
            "justify_content": null,
            "justify_items": null,
            "left": null,
            "margin": null,
            "max_height": null,
            "max_width": null,
            "min_height": null,
            "min_width": null,
            "object_fit": null,
            "object_position": null,
            "order": null,
            "overflow": null,
            "overflow_x": null,
            "overflow_y": null,
            "padding": null,
            "right": null,
            "top": null,
            "visibility": null,
            "width": "50%"
          }
        },
        "f49a130d35934c62970970ade7b53d3a": {
          "model_module": "@jupyter-widgets/base",
          "model_name": "LayoutModel",
          "model_module_version": "1.2.0",
          "state": {
            "_model_module": "@jupyter-widgets/base",
            "_model_module_version": "1.2.0",
            "_model_name": "LayoutModel",
            "_view_count": null,
            "_view_module": "@jupyter-widgets/base",
            "_view_module_version": "1.2.0",
            "_view_name": "LayoutView",
            "align_content": null,
            "align_items": null,
            "align_self": null,
            "border": null,
            "bottom": null,
            "display": null,
            "flex": null,
            "flex_flow": null,
            "grid_area": null,
            "grid_auto_columns": null,
            "grid_auto_flow": null,
            "grid_auto_rows": null,
            "grid_column": null,
            "grid_gap": null,
            "grid_row": null,
            "grid_template_areas": null,
            "grid_template_columns": null,
            "grid_template_rows": null,
            "height": null,
            "justify_content": null,
            "justify_items": null,
            "left": null,
            "margin": null,
            "max_height": null,
            "max_width": null,
            "min_height": null,
            "min_width": null,
            "object_fit": null,
            "object_position": null,
            "order": null,
            "overflow": null,
            "overflow_x": null,
            "overflow_y": null,
            "padding": null,
            "right": null,
            "top": null,
            "visibility": null,
            "width": null
          }
        },
        "18c6ff7af9084382b0faed5d924ff103": {
          "model_module": "@jupyter-widgets/controls",
          "model_name": "DescriptionStyleModel",
          "model_module_version": "1.5.0",
          "state": {
            "_model_module": "@jupyter-widgets/controls",
            "_model_module_version": "1.5.0",
            "_model_name": "DescriptionStyleModel",
            "_view_count": null,
            "_view_module": "@jupyter-widgets/base",
            "_view_module_version": "1.2.0",
            "_view_name": "StyleView",
            "description_width": ""
          }
        },
        "76571ef8218f448b966d8749483cc634": {
          "model_module": "@jupyter-widgets/base",
          "model_name": "LayoutModel",
          "model_module_version": "1.2.0",
          "state": {
            "_model_module": "@jupyter-widgets/base",
            "_model_module_version": "1.2.0",
            "_model_name": "LayoutModel",
            "_view_count": null,
            "_view_module": "@jupyter-widgets/base",
            "_view_module_version": "1.2.0",
            "_view_name": "LayoutView",
            "align_content": null,
            "align_items": null,
            "align_self": null,
            "border": null,
            "bottom": null,
            "display": null,
            "flex": null,
            "flex_flow": null,
            "grid_area": null,
            "grid_auto_columns": null,
            "grid_auto_flow": null,
            "grid_auto_rows": null,
            "grid_column": null,
            "grid_gap": null,
            "grid_row": null,
            "grid_template_areas": null,
            "grid_template_columns": null,
            "grid_template_rows": null,
            "height": null,
            "justify_content": null,
            "justify_items": null,
            "left": null,
            "margin": null,
            "max_height": null,
            "max_width": null,
            "min_height": null,
            "min_width": null,
            "object_fit": null,
            "object_position": null,
            "order": null,
            "overflow": null,
            "overflow_x": null,
            "overflow_y": null,
            "padding": null,
            "right": null,
            "top": null,
            "visibility": null,
            "width": null
          }
        },
        "7e33978fdf0d45489774eacf95e6d6af": {
          "model_module": "@jupyter-widgets/controls",
          "model_name": "DescriptionStyleModel",
          "model_module_version": "1.5.0",
          "state": {
            "_model_module": "@jupyter-widgets/controls",
            "_model_module_version": "1.5.0",
            "_model_name": "DescriptionStyleModel",
            "_view_count": null,
            "_view_module": "@jupyter-widgets/base",
            "_view_module_version": "1.2.0",
            "_view_name": "StyleView",
            "description_width": ""
          }
        },
        "a6b91120e9df43059f1103629d05fd6b": {
          "model_module": "@jupyter-widgets/base",
          "model_name": "LayoutModel",
          "model_module_version": "1.2.0",
          "state": {
            "_model_module": "@jupyter-widgets/base",
            "_model_module_version": "1.2.0",
            "_model_name": "LayoutModel",
            "_view_count": null,
            "_view_module": "@jupyter-widgets/base",
            "_view_module_version": "1.2.0",
            "_view_name": "LayoutView",
            "align_content": null,
            "align_items": null,
            "align_self": null,
            "border": null,
            "bottom": null,
            "display": null,
            "flex": null,
            "flex_flow": null,
            "grid_area": null,
            "grid_auto_columns": null,
            "grid_auto_flow": null,
            "grid_auto_rows": null,
            "grid_column": null,
            "grid_gap": null,
            "grid_row": null,
            "grid_template_areas": null,
            "grid_template_columns": null,
            "grid_template_rows": null,
            "height": null,
            "justify_content": null,
            "justify_items": null,
            "left": null,
            "margin": null,
            "max_height": null,
            "max_width": null,
            "min_height": null,
            "min_width": null,
            "object_fit": null,
            "object_position": null,
            "order": null,
            "overflow": null,
            "overflow_x": null,
            "overflow_y": null,
            "padding": null,
            "right": null,
            "top": null,
            "visibility": null,
            "width": null
          }
        },
        "0af4b1c892804151af986bbef4b27f8b": {
          "model_module": "@jupyter-widgets/controls",
          "model_name": "DescriptionStyleModel",
          "model_module_version": "1.5.0",
          "state": {
            "_model_module": "@jupyter-widgets/controls",
            "_model_module_version": "1.5.0",
            "_model_name": "DescriptionStyleModel",
            "_view_count": null,
            "_view_module": "@jupyter-widgets/base",
            "_view_module_version": "1.2.0",
            "_view_name": "StyleView",
            "description_width": ""
          }
        },
        "d4d1cf6b8ae44c828458f006eb2b8c2b": {
          "model_module": "@jupyter-widgets/base",
          "model_name": "LayoutModel",
          "model_module_version": "1.2.0",
          "state": {
            "_model_module": "@jupyter-widgets/base",
            "_model_module_version": "1.2.0",
            "_model_name": "LayoutModel",
            "_view_count": null,
            "_view_module": "@jupyter-widgets/base",
            "_view_module_version": "1.2.0",
            "_view_name": "LayoutView",
            "align_content": null,
            "align_items": null,
            "align_self": null,
            "border": null,
            "bottom": null,
            "display": null,
            "flex": null,
            "flex_flow": null,
            "grid_area": null,
            "grid_auto_columns": null,
            "grid_auto_flow": null,
            "grid_auto_rows": null,
            "grid_column": null,
            "grid_gap": null,
            "grid_row": null,
            "grid_template_areas": null,
            "grid_template_columns": null,
            "grid_template_rows": null,
            "height": null,
            "justify_content": null,
            "justify_items": null,
            "left": null,
            "margin": null,
            "max_height": null,
            "max_width": null,
            "min_height": null,
            "min_width": null,
            "object_fit": null,
            "object_position": null,
            "order": null,
            "overflow": null,
            "overflow_x": null,
            "overflow_y": null,
            "padding": null,
            "right": null,
            "top": null,
            "visibility": null,
            "width": null
          }
        },
        "f0964c8e5a51497fad129e0b94381005": {
          "model_module": "@jupyter-widgets/controls",
          "model_name": "ButtonStyleModel",
          "model_module_version": "1.5.0",
          "state": {
            "_model_module": "@jupyter-widgets/controls",
            "_model_module_version": "1.5.0",
            "_model_name": "ButtonStyleModel",
            "_view_count": null,
            "_view_module": "@jupyter-widgets/base",
            "_view_module_version": "1.2.0",
            "_view_name": "StyleView",
            "button_color": null,
            "font_weight": ""
          }
        },
        "21eefbe5728745bea9bc0d2b54078c1c": {
          "model_module": "@jupyter-widgets/base",
          "model_name": "LayoutModel",
          "model_module_version": "1.2.0",
          "state": {
            "_model_module": "@jupyter-widgets/base",
            "_model_module_version": "1.2.0",
            "_model_name": "LayoutModel",
            "_view_count": null,
            "_view_module": "@jupyter-widgets/base",
            "_view_module_version": "1.2.0",
            "_view_name": "LayoutView",
            "align_content": null,
            "align_items": null,
            "align_self": null,
            "border": null,
            "bottom": null,
            "display": null,
            "flex": null,
            "flex_flow": null,
            "grid_area": null,
            "grid_auto_columns": null,
            "grid_auto_flow": null,
            "grid_auto_rows": null,
            "grid_column": null,
            "grid_gap": null,
            "grid_row": null,
            "grid_template_areas": null,
            "grid_template_columns": null,
            "grid_template_rows": null,
            "height": null,
            "justify_content": null,
            "justify_items": null,
            "left": null,
            "margin": null,
            "max_height": null,
            "max_width": null,
            "min_height": null,
            "min_width": null,
            "object_fit": null,
            "object_position": null,
            "order": null,
            "overflow": null,
            "overflow_x": null,
            "overflow_y": null,
            "padding": null,
            "right": null,
            "top": null,
            "visibility": null,
            "width": null
          }
        },
        "b1f5c037bca84e369635655c0fcdd1cb": {
          "model_module": "@jupyter-widgets/controls",
          "model_name": "DescriptionStyleModel",
          "model_module_version": "1.5.0",
          "state": {
            "_model_module": "@jupyter-widgets/controls",
            "_model_module_version": "1.5.0",
            "_model_name": "DescriptionStyleModel",
            "_view_count": null,
            "_view_module": "@jupyter-widgets/base",
            "_view_module_version": "1.2.0",
            "_view_name": "StyleView",
            "description_width": ""
          }
        },
        "9827e057a7f14ddfa719e46441907a4c": {
          "model_module": "@jupyter-widgets/controls",
          "model_name": "LabelModel",
          "model_module_version": "1.5.0",
          "state": {
            "_dom_classes": [],
            "_model_module": "@jupyter-widgets/controls",
            "_model_module_version": "1.5.0",
            "_model_name": "LabelModel",
            "_view_count": null,
            "_view_module": "@jupyter-widgets/controls",
            "_view_module_version": "1.5.0",
            "_view_name": "LabelView",
            "description": "",
            "description_tooltip": null,
            "layout": "IPY_MODEL_62c0f2106e394855a13d4468eb71deb8",
            "placeholder": "​",
            "style": "IPY_MODEL_b840123a8c7843a5a94493304a039aaf",
            "value": "Connecting..."
          }
        },
        "62c0f2106e394855a13d4468eb71deb8": {
          "model_module": "@jupyter-widgets/base",
          "model_name": "LayoutModel",
          "model_module_version": "1.2.0",
          "state": {
            "_model_module": "@jupyter-widgets/base",
            "_model_module_version": "1.2.0",
            "_model_name": "LayoutModel",
            "_view_count": null,
            "_view_module": "@jupyter-widgets/base",
            "_view_module_version": "1.2.0",
            "_view_name": "LayoutView",
            "align_content": null,
            "align_items": null,
            "align_self": null,
            "border": null,
            "bottom": null,
            "display": null,
            "flex": null,
            "flex_flow": null,
            "grid_area": null,
            "grid_auto_columns": null,
            "grid_auto_flow": null,
            "grid_auto_rows": null,
            "grid_column": null,
            "grid_gap": null,
            "grid_row": null,
            "grid_template_areas": null,
            "grid_template_columns": null,
            "grid_template_rows": null,
            "height": null,
            "justify_content": null,
            "justify_items": null,
            "left": null,
            "margin": null,
            "max_height": null,
            "max_width": null,
            "min_height": null,
            "min_width": null,
            "object_fit": null,
            "object_position": null,
            "order": null,
            "overflow": null,
            "overflow_x": null,
            "overflow_y": null,
            "padding": null,
            "right": null,
            "top": null,
            "visibility": null,
            "width": null
          }
        },
        "b840123a8c7843a5a94493304a039aaf": {
          "model_module": "@jupyter-widgets/controls",
          "model_name": "DescriptionStyleModel",
          "model_module_version": "1.5.0",
          "state": {
            "_model_module": "@jupyter-widgets/controls",
            "_model_module_version": "1.5.0",
            "_model_name": "DescriptionStyleModel",
            "_view_count": null,
            "_view_module": "@jupyter-widgets/base",
            "_view_module_version": "1.2.0",
            "_view_name": "StyleView",
            "description_width": ""
          }
        },
        "996c0acfbd124e80bbca07405369f698": {
          "model_module": "@jupyter-widgets/controls",
          "model_name": "LabelModel",
          "model_module_version": "1.5.0",
          "state": {
            "_dom_classes": [],
            "_model_module": "@jupyter-widgets/controls",
            "_model_module_version": "1.5.0",
            "_model_name": "LabelModel",
            "_view_count": null,
            "_view_module": "@jupyter-widgets/controls",
            "_view_module_version": "1.5.0",
            "_view_name": "LabelView",
            "description": "",
            "description_tooltip": null,
            "layout": "IPY_MODEL_d8520c37aa5d4384a42b3c0c9687f8ce",
            "placeholder": "​",
            "style": "IPY_MODEL_1a9c477eee55415f9fdb7d4ef008892c",
            "value": "Token is valid (permission: write)."
          }
        },
        "4286b34173be4fe5838ef5991c197688": {
          "model_module": "@jupyter-widgets/controls",
          "model_name": "LabelModel",
          "model_module_version": "1.5.0",
          "state": {
            "_dom_classes": [],
            "_model_module": "@jupyter-widgets/controls",
            "_model_module_version": "1.5.0",
            "_model_name": "LabelModel",
            "_view_count": null,
            "_view_module": "@jupyter-widgets/controls",
            "_view_module_version": "1.5.0",
            "_view_name": "LabelView",
            "description": "",
            "description_tooltip": null,
            "layout": "IPY_MODEL_c672ed748efd4a158a159e733ce84f38",
            "placeholder": "​",
            "style": "IPY_MODEL_9c06c781e9bf40f3aa630c81d0794a5f",
            "value": "Your token has been saved in your configured git credential helpers (store)."
          }
        },
        "81c6a386086e4176ae7d71c32e924574": {
          "model_module": "@jupyter-widgets/controls",
          "model_name": "LabelModel",
          "model_module_version": "1.5.0",
          "state": {
            "_dom_classes": [],
            "_model_module": "@jupyter-widgets/controls",
            "_model_module_version": "1.5.0",
            "_model_name": "LabelModel",
            "_view_count": null,
            "_view_module": "@jupyter-widgets/controls",
            "_view_module_version": "1.5.0",
            "_view_name": "LabelView",
            "description": "",
            "description_tooltip": null,
            "layout": "IPY_MODEL_9a1881fb514e46d1adc2d9cc7457fe62",
            "placeholder": "​",
            "style": "IPY_MODEL_6930b47b08984621820c24632b33a2d6",
            "value": "Your token has been saved to /root/.cache/huggingface/token"
          }
        },
        "35d1a7a44ed94ca3a1bc0ee52ef4a254": {
          "model_module": "@jupyter-widgets/controls",
          "model_name": "LabelModel",
          "model_module_version": "1.5.0",
          "state": {
            "_dom_classes": [],
            "_model_module": "@jupyter-widgets/controls",
            "_model_module_version": "1.5.0",
            "_model_name": "LabelModel",
            "_view_count": null,
            "_view_module": "@jupyter-widgets/controls",
            "_view_module_version": "1.5.0",
            "_view_name": "LabelView",
            "description": "",
            "description_tooltip": null,
            "layout": "IPY_MODEL_44031d861af84edb90b076b8cd1ae535",
            "placeholder": "​",
            "style": "IPY_MODEL_1be2dfb77d5641fcb32f08f608d8bf55",
            "value": "Login successful"
          }
        },
        "d8520c37aa5d4384a42b3c0c9687f8ce": {
          "model_module": "@jupyter-widgets/base",
          "model_name": "LayoutModel",
          "model_module_version": "1.2.0",
          "state": {
            "_model_module": "@jupyter-widgets/base",
            "_model_module_version": "1.2.0",
            "_model_name": "LayoutModel",
            "_view_count": null,
            "_view_module": "@jupyter-widgets/base",
            "_view_module_version": "1.2.0",
            "_view_name": "LayoutView",
            "align_content": null,
            "align_items": null,
            "align_self": null,
            "border": null,
            "bottom": null,
            "display": null,
            "flex": null,
            "flex_flow": null,
            "grid_area": null,
            "grid_auto_columns": null,
            "grid_auto_flow": null,
            "grid_auto_rows": null,
            "grid_column": null,
            "grid_gap": null,
            "grid_row": null,
            "grid_template_areas": null,
            "grid_template_columns": null,
            "grid_template_rows": null,
            "height": null,
            "justify_content": null,
            "justify_items": null,
            "left": null,
            "margin": null,
            "max_height": null,
            "max_width": null,
            "min_height": null,
            "min_width": null,
            "object_fit": null,
            "object_position": null,
            "order": null,
            "overflow": null,
            "overflow_x": null,
            "overflow_y": null,
            "padding": null,
            "right": null,
            "top": null,
            "visibility": null,
            "width": null
          }
        },
        "1a9c477eee55415f9fdb7d4ef008892c": {
          "model_module": "@jupyter-widgets/controls",
          "model_name": "DescriptionStyleModel",
          "model_module_version": "1.5.0",
          "state": {
            "_model_module": "@jupyter-widgets/controls",
            "_model_module_version": "1.5.0",
            "_model_name": "DescriptionStyleModel",
            "_view_count": null,
            "_view_module": "@jupyter-widgets/base",
            "_view_module_version": "1.2.0",
            "_view_name": "StyleView",
            "description_width": ""
          }
        },
        "c672ed748efd4a158a159e733ce84f38": {
          "model_module": "@jupyter-widgets/base",
          "model_name": "LayoutModel",
          "model_module_version": "1.2.0",
          "state": {
            "_model_module": "@jupyter-widgets/base",
            "_model_module_version": "1.2.0",
            "_model_name": "LayoutModel",
            "_view_count": null,
            "_view_module": "@jupyter-widgets/base",
            "_view_module_version": "1.2.0",
            "_view_name": "LayoutView",
            "align_content": null,
            "align_items": null,
            "align_self": null,
            "border": null,
            "bottom": null,
            "display": null,
            "flex": null,
            "flex_flow": null,
            "grid_area": null,
            "grid_auto_columns": null,
            "grid_auto_flow": null,
            "grid_auto_rows": null,
            "grid_column": null,
            "grid_gap": null,
            "grid_row": null,
            "grid_template_areas": null,
            "grid_template_columns": null,
            "grid_template_rows": null,
            "height": null,
            "justify_content": null,
            "justify_items": null,
            "left": null,
            "margin": null,
            "max_height": null,
            "max_width": null,
            "min_height": null,
            "min_width": null,
            "object_fit": null,
            "object_position": null,
            "order": null,
            "overflow": null,
            "overflow_x": null,
            "overflow_y": null,
            "padding": null,
            "right": null,
            "top": null,
            "visibility": null,
            "width": null
          }
        },
        "9c06c781e9bf40f3aa630c81d0794a5f": {
          "model_module": "@jupyter-widgets/controls",
          "model_name": "DescriptionStyleModel",
          "model_module_version": "1.5.0",
          "state": {
            "_model_module": "@jupyter-widgets/controls",
            "_model_module_version": "1.5.0",
            "_model_name": "DescriptionStyleModel",
            "_view_count": null,
            "_view_module": "@jupyter-widgets/base",
            "_view_module_version": "1.2.0",
            "_view_name": "StyleView",
            "description_width": ""
          }
        },
        "9a1881fb514e46d1adc2d9cc7457fe62": {
          "model_module": "@jupyter-widgets/base",
          "model_name": "LayoutModel",
          "model_module_version": "1.2.0",
          "state": {
            "_model_module": "@jupyter-widgets/base",
            "_model_module_version": "1.2.0",
            "_model_name": "LayoutModel",
            "_view_count": null,
            "_view_module": "@jupyter-widgets/base",
            "_view_module_version": "1.2.0",
            "_view_name": "LayoutView",
            "align_content": null,
            "align_items": null,
            "align_self": null,
            "border": null,
            "bottom": null,
            "display": null,
            "flex": null,
            "flex_flow": null,
            "grid_area": null,
            "grid_auto_columns": null,
            "grid_auto_flow": null,
            "grid_auto_rows": null,
            "grid_column": null,
            "grid_gap": null,
            "grid_row": null,
            "grid_template_areas": null,
            "grid_template_columns": null,
            "grid_template_rows": null,
            "height": null,
            "justify_content": null,
            "justify_items": null,
            "left": null,
            "margin": null,
            "max_height": null,
            "max_width": null,
            "min_height": null,
            "min_width": null,
            "object_fit": null,
            "object_position": null,
            "order": null,
            "overflow": null,
            "overflow_x": null,
            "overflow_y": null,
            "padding": null,
            "right": null,
            "top": null,
            "visibility": null,
            "width": null
          }
        },
        "6930b47b08984621820c24632b33a2d6": {
          "model_module": "@jupyter-widgets/controls",
          "model_name": "DescriptionStyleModel",
          "model_module_version": "1.5.0",
          "state": {
            "_model_module": "@jupyter-widgets/controls",
            "_model_module_version": "1.5.0",
            "_model_name": "DescriptionStyleModel",
            "_view_count": null,
            "_view_module": "@jupyter-widgets/base",
            "_view_module_version": "1.2.0",
            "_view_name": "StyleView",
            "description_width": ""
          }
        },
        "44031d861af84edb90b076b8cd1ae535": {
          "model_module": "@jupyter-widgets/base",
          "model_name": "LayoutModel",
          "model_module_version": "1.2.0",
          "state": {
            "_model_module": "@jupyter-widgets/base",
            "_model_module_version": "1.2.0",
            "_model_name": "LayoutModel",
            "_view_count": null,
            "_view_module": "@jupyter-widgets/base",
            "_view_module_version": "1.2.0",
            "_view_name": "LayoutView",
            "align_content": null,
            "align_items": null,
            "align_self": null,
            "border": null,
            "bottom": null,
            "display": null,
            "flex": null,
            "flex_flow": null,
            "grid_area": null,
            "grid_auto_columns": null,
            "grid_auto_flow": null,
            "grid_auto_rows": null,
            "grid_column": null,
            "grid_gap": null,
            "grid_row": null,
            "grid_template_areas": null,
            "grid_template_columns": null,
            "grid_template_rows": null,
            "height": null,
            "justify_content": null,
            "justify_items": null,
            "left": null,
            "margin": null,
            "max_height": null,
            "max_width": null,
            "min_height": null,
            "min_width": null,
            "object_fit": null,
            "object_position": null,
            "order": null,
            "overflow": null,
            "overflow_x": null,
            "overflow_y": null,
            "padding": null,
            "right": null,
            "top": null,
            "visibility": null,
            "width": null
          }
        },
        "1be2dfb77d5641fcb32f08f608d8bf55": {
          "model_module": "@jupyter-widgets/controls",
          "model_name": "DescriptionStyleModel",
          "model_module_version": "1.5.0",
          "state": {
            "_model_module": "@jupyter-widgets/controls",
            "_model_module_version": "1.5.0",
            "_model_name": "DescriptionStyleModel",
            "_view_count": null,
            "_view_module": "@jupyter-widgets/base",
            "_view_module_version": "1.2.0",
            "_view_name": "StyleView",
            "description_width": ""
          }
        }
      }
    },
    "accelerator": "GPU"
  },
  "nbformat": 4,
  "nbformat_minor": 0
}
